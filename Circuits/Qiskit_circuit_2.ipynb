{
  "nbformat": 4,
  "nbformat_minor": 0,
  "metadata": {
    "colab": {
      "name": "Qiskit_circuit_2.ipynb",
      "provenance": [],
      "collapsed_sections": [],
      "authorship_tag": "ABX9TyOaI1bbJ1RE3SlLh3m14jKk",
      "include_colab_link": true
    },
    "kernelspec": {
      "name": "python3",
      "display_name": "Python 3"
    }
  },
  "cells": [
    {
      "cell_type": "markdown",
      "metadata": {
        "id": "view-in-github",
        "colab_type": "text"
      },
      "source": [
        "<a href=\"https://colab.research.google.com/github/AmanPriyanshu/Understanding-Quantum-With-Qiskit/blob/master/Qiskit_circuit_2.ipynb\" target=\"_parent\"><img src=\"https://colab.research.google.com/assets/colab-badge.svg\" alt=\"Open In Colab\"/></a>"
      ]
    },
    {
      "cell_type": "markdown",
      "metadata": {
        "id": "2KzRGMQzKACD",
        "colab_type": "text"
      },
      "source": [
        "# Circuit 2:"
      ]
    },
    {
      "cell_type": "markdown",
      "metadata": {
        "id": "UDjEV1ENKGbp",
        "colab_type": "text"
      },
      "source": [
        "Following: https://www.youtube.com/watch?v=mMwovHK2NrE&list=PLOFEBzvs-Vvp2xg9-POLJhQwtVktlYGbY&index=5 Official Qiskit Tutorial\n",
        "\n",
        "Installing Qiskit"
      ]
    },
    {
      "cell_type": "code",
      "metadata": {
        "id": "OWJJG5EGJs8I",
        "colab_type": "code",
        "colab": {}
      },
      "source": [
        "pip install qiskit -q"
      ],
      "execution_count": 0,
      "outputs": []
    },
    {
      "cell_type": "code",
      "metadata": {
        "id": "hr0fVyGBKJ3R",
        "colab_type": "code",
        "colab": {}
      },
      "source": [
        "pip install qiskit-terra[visualization] -q"
      ],
      "execution_count": 0,
      "outputs": []
    },
    {
      "cell_type": "markdown",
      "metadata": {
        "id": "_U1R6izVKZ_G",
        "colab_type": "text"
      },
      "source": [
        "### Restart the Notebook if on Google Colab\n",
        "After execution of:\n",
        "\n",
        "\n",
        "```\n",
        "# pip install qiskit-terra[visualization] -q\n",
        "```\n"
      ]
    },
    {
      "cell_type": "markdown",
      "metadata": {
        "id": "zVPojEKMKdSA",
        "colab_type": "text"
      },
      "source": [
        "Importing Everything From Qiskit"
      ]
    },
    {
      "cell_type": "code",
      "metadata": {
        "id": "_fMyo5LoKLkR",
        "colab_type": "code",
        "colab": {}
      },
      "source": [
        "from qiskit import *"
      ],
      "execution_count": 0,
      "outputs": []
    },
    {
      "cell_type": "markdown",
      "metadata": {
        "id": "paXagl0OOMDo",
        "colab_type": "text"
      },
      "source": [
        "Generating a (3,3) Quantum Circuit with 3 Quantum Registers and 3 Classical Registers"
      ]
    },
    {
      "cell_type": "code",
      "metadata": {
        "id": "bbyO6PwzKfCB",
        "colab_type": "code",
        "colab": {}
      },
      "source": [
        "circuit = QuantumCircuit(3, 3)"
      ],
      "execution_count": 0,
      "outputs": []
    },
    {
      "cell_type": "markdown",
      "metadata": {
        "id": "-Ua-XyhgOWMO",
        "colab_type": "text"
      },
      "source": [
        "Drawing Empty Circuit"
      ]
    },
    {
      "cell_type": "code",
      "metadata": {
        "id": "yfY01FUQKkZ0",
        "colab_type": "code",
        "colab": {
          "base_uri": "https://localhost:8080/",
          "height": 231
        },
        "outputId": "2bb5cc5d-2add-4e72-c493-1849c8d72553"
      },
      "source": [
        "%matplotlib inline\n",
        "circuit.draw(output='mpl')"
      ],
      "execution_count": 5,
      "outputs": [
        {
          "output_type": "execute_result",
          "data": {
            "image/png": "[encoded data removed]",
            "text/plain": [
              "<Figure size 178.192x264.88 with 1 Axes>"
            ]
          },
          "metadata": {
            "tags": []
          },
          "execution_count": 5
        }
      ]
    },
    {
      "cell_type": "markdown",
      "metadata": {
        "id": "V8xM_M-vOZ8T",
        "colab_type": "text"
      },
      "source": [
        "Generating Quatum state |1> in Q(0)"
      ]
    },
    {
      "cell_type": "code",
      "metadata": {
        "id": "v5lZ3mnkKp0u",
        "colab_type": "code",
        "colab": {
          "base_uri": "https://localhost:8080/",
          "height": 231
        },
        "outputId": "e9eb3bb6-99c0-4777-c8ce-2b2b5fc494c2"
      },
      "source": [
        "circuit.x(0)\n",
        "#circuit.h(1)\n",
        "circuit.barrier()\n",
        "circuit.draw(output='mpl')"
      ],
      "execution_count": 6,
      "outputs": [
        {
          "output_type": "execute_result",
          "data": {
            "image/png": "[encoded data removed]",
            "text/plain": [
              "<Figure size 298.592x264.88 with 1 Axes>"
            ]
          },
          "metadata": {
            "tags": []
          },
          "execution_count": 6
        }
      ]
    },
    {
      "cell_type": "markdown",
      "metadata": {
        "id": "QPIizdD7K8nC",
        "colab_type": "text"
      },
      "source": [
        "## Creating An Entanglement\n",
        "between Q(0) and Q(2)"
      ]
    },
    {
      "cell_type": "markdown",
      "metadata": {
        "id": "bGMD-8NmOuER",
        "colab_type": "text"
      },
      "source": [
        "Step 1: The below script allows us to map Q(1) to a Superposition between |0> and |1>\n",
        "\n",
        "Step 2: Following this cx Gate, which will NOT Q(2) based on Q(1)'s state, which could either be |0> or |1>"
      ]
    },
    {
      "cell_type": "code",
      "metadata": {
        "id": "czrhYaIIK0pJ",
        "colab_type": "code",
        "colab": {
          "base_uri": "https://localhost:8080/",
          "height": 34
        },
        "outputId": "ecb1d37b-5887-4def-81e4-eb93b69c59d2"
      },
      "source": [
        "circuit.h(1)\n",
        "circuit.cx(1,2)"
      ],
      "execution_count": 7,
      "outputs": [
        {
          "output_type": "execute_result",
          "data": {
            "text/plain": [
              "<qiskit.circuit.instructionset.InstructionSet at 0x7f21d6199ba8>"
            ]
          },
          "metadata": {
            "tags": []
          },
          "execution_count": 7
        }
      ]
    },
    {
      "cell_type": "markdown",
      "metadata": {
        "id": "_8z7GN6QOqVr",
        "colab_type": "text"
      },
      "source": [
        "Drawing the generated Circuit"
      ]
    },
    {
      "cell_type": "code",
      "metadata": {
        "id": "1LWNUtzZLK4C",
        "colab_type": "code",
        "colab": {
          "base_uri": "https://localhost:8080/",
          "height": 231
        },
        "outputId": "78ccb178-eaf8-4033-e9b1-f1e77a2216c2"
      },
      "source": [
        "circuit.draw(output='mpl')"
      ],
      "execution_count": 8,
      "outputs": [
        {
          "output_type": "execute_result",
          "data": {
            "image/png": "[encoded data removed]",
            "text/plain": [
              "<Figure size 418.992x264.88 with 1 Axes>"
            ]
          },
          "metadata": {
            "tags": []
          },
          "execution_count": 8
        }
      ]
    },
    {
      "cell_type": "markdown",
      "metadata": {
        "id": "25DzE8KjPrQa",
        "colab_type": "text"
      },
      "source": [
        "Step 1: Here the State of Q(0) affects Q(1) in the same way as above where if state of Q(0) := |1> then the NOT operation will be performed on Q(1), whereas no operation will be performed in the case of  Q(0) := |0>.\n",
        "\n",
        "Step 2: Here the state of Q(0) is brought into superposition. Where it has an equal chance to be |0> or |1>"
      ]
    },
    {
      "cell_type": "code",
      "metadata": {
        "id": "D9OAzgH3LPfS",
        "colab_type": "code",
        "colab": {
          "base_uri": "https://localhost:8080/",
          "height": 34
        },
        "outputId": "d830c4da-ab7a-4afc-8ade-55e60ebe6fa0"
      },
      "source": [
        "circuit.barrier()\n",
        "circuit.cx(0,1)\n",
        "circuit.h(0)"
      ],
      "execution_count": 9,
      "outputs": [
        {
          "output_type": "execute_result",
          "data": {
            "text/plain": [
              "<qiskit.circuit.instructionset.InstructionSet at 0x7f21d60acb70>"
            ]
          },
          "metadata": {
            "tags": []
          },
          "execution_count": 9
        }
      ]
    },
    {
      "cell_type": "markdown",
      "metadata": {
        "id": "PXzZFRWOQRw4",
        "colab_type": "text"
      },
      "source": [
        "Drawing the Circuit"
      ]
    },
    {
      "cell_type": "code",
      "metadata": {
        "id": "lJfKRXSvLfuY",
        "colab_type": "code",
        "colab": {
          "base_uri": "https://localhost:8080/",
          "height": 231
        },
        "outputId": "b06d9d38-0c63-4fd1-e03c-96b53cd8e633"
      },
      "source": [
        "circuit.barrier()\n",
        "circuit.draw(output='mpl')"
      ],
      "execution_count": 10,
      "outputs": [
        {
          "output_type": "execute_result",
          "data": {
            "image/png": "[encoded data removed]",
            "text/plain": [
              "<Figure size 659.792x264.88 with 1 Axes>"
            ]
          },
          "metadata": {
            "tags": []
          },
          "execution_count": 10
        }
      ]
    },
    {
      "cell_type": "markdown",
      "metadata": {
        "id": "bfmQUjfMQWnb",
        "colab_type": "text"
      },
      "source": [
        "Step 1: Now here, we will again apply CX Gate on Q(1) and Q(2). This will inturn transform Q(2) in the same method as stated above.\n",
        "\n",
        "Step 2: It flips the sign of the target qubit if and only if the control qubit is 1. Here, the target is Q(2) and control is Q(0)."
      ]
    },
    {
      "cell_type": "code",
      "metadata": {
        "id": "Vlw4DIU_LrsB",
        "colab_type": "code",
        "colab": {
          "base_uri": "https://localhost:8080/",
          "height": 231
        },
        "outputId": "ccdb4364-ece2-4ae4-9b85-d3efd93541a3"
      },
      "source": [
        "circuit.cx(1,2)\n",
        "circuit.cz(0,2)\n",
        "circuit.draw(output='mpl')"
      ],
      "execution_count": 11,
      "outputs": [
        {
          "output_type": "execute_result",
          "data": {
            "image/png": "[encoded data removed]",
            "text/plain": [
              "<Figure size 780.192x264.88 with 1 Axes>"
            ]
          },
          "metadata": {
            "tags": []
          },
          "execution_count": 11
        }
      ]
    },
    {
      "cell_type": "markdown",
      "metadata": {
        "id": "k969IEpXRghz",
        "colab_type": "text"
      },
      "source": [
        "Matrix representation of the whole circuit"
      ]
    },
    {
      "cell_type": "code",
      "metadata": {
        "id": "beVar6X-NKZ4",
        "colab_type": "code",
        "colab": {
          "base_uri": "https://localhost:8080/",
          "height": 634
        },
        "outputId": "b882bb4a-fd05-4ed3-b44c-e9f81dcb139c"
      },
      "source": [
        "simulator = Aer.get_backend('unitary_simulator')\n",
        "job = execute(circuit, simulator, shots=4096)\n",
        "result = job.result()\n",
        "unitary = result.get_unitary()\n",
        "print(unitary)\n",
        "\n",
        "%matplotlib inline\n",
        "circuit.draw(output='mpl')"
      ],
      "execution_count": 12,
      "outputs": [
        {
          "output_type": "stream",
          "text": [
            "[[ 0. +0.0000000e+00j  0.5+0.0000000e+00j  0. +0.0000000e+00j\n",
            "   0.5-6.1232340e-17j  0.5-6.1232340e-17j  0. +0.0000000e+00j\n",
            "  -0.5+1.2246468e-16j  0. +0.0000000e+00j]\n",
            " [ 0. +0.0000000e+00j  0.5+0.0000000e+00j  0. +0.0000000e+00j\n",
            "   0.5-6.1232340e-17j -0.5+6.1232340e-17j  0. +0.0000000e+00j\n",
            "   0.5-1.2246468e-16j  0. +0.0000000e+00j]\n",
            " [ 0. +0.0000000e+00j  0.5+0.0000000e+00j  0. +0.0000000e+00j\n",
            "  -0.5+6.1232340e-17j  0.5-6.1232340e-17j  0. +0.0000000e+00j\n",
            "   0.5-1.2246468e-16j  0. +0.0000000e+00j]\n",
            " [ 0. +0.0000000e+00j  0.5+0.0000000e+00j  0. +0.0000000e+00j\n",
            "  -0.5+6.1232340e-17j -0.5+6.1232340e-17j  0. +0.0000000e+00j\n",
            "  -0.5+1.2246468e-16j  0. +0.0000000e+00j]\n",
            " [ 0.5-6.1232340e-17j  0. +0.0000000e+00j -0.5+1.2246468e-16j\n",
            "   0. +0.0000000e+00j  0. +0.0000000e+00j  0.5+0.0000000e+00j\n",
            "   0. +0.0000000e+00j  0.5-6.1232340e-17j]\n",
            " [ 0.5-6.1232340e-17j  0. +0.0000000e+00j -0.5+1.2246468e-16j\n",
            "   0. +0.0000000e+00j  0. +0.0000000e+00j -0.5+0.0000000e+00j\n",
            "   0. +0.0000000e+00j -0.5+6.1232340e-17j]\n",
            " [ 0.5-6.1232340e-17j  0. +0.0000000e+00j  0.5-1.2246468e-16j\n",
            "   0. +0.0000000e+00j  0. +0.0000000e+00j  0.5+0.0000000e+00j\n",
            "   0. +0.0000000e+00j -0.5+6.1232340e-17j]\n",
            " [ 0.5-6.1232340e-17j  0. +0.0000000e+00j  0.5-1.2246468e-16j\n",
            "   0. +0.0000000e+00j  0. +0.0000000e+00j -0.5+0.0000000e+00j\n",
            "   0. +0.0000000e+00j  0.5-6.1232340e-17j]]\n"
          ],
          "name": "stdout"
        },
        {
          "output_type": "execute_result",
          "data": {
            "image/png": "[encoded data removed]",
            "text/plain": [
              "<Figure size 780.192x264.88 with 1 Axes>"
            ]
          },
          "metadata": {
            "tags": []
          },
          "execution_count": 12
        }
      ]
    },
    {
      "cell_type": "markdown",
      "metadata": {
        "id": "KEZY-_UyRleZ",
        "colab_type": "text"
      },
      "source": [
        "### MEASURING CIRCUIT"
      ]
    },
    {
      "cell_type": "code",
      "metadata": {
        "id": "6vycIZvtSVyA",
        "colab_type": "code",
        "colab": {
          "base_uri": "https://localhost:8080/",
          "height": 231
        },
        "outputId": "d5cafc65-84b7-44dc-b1e1-d89fc7042f98"
      },
      "source": [
        "circuit.barrier()\n",
        "circuit.measure([0,1,2],[0,1,2])\n",
        "circuit.draw(output='mpl')"
      ],
      "execution_count": 13,
      "outputs": [
        {
          "output_type": "execute_result",
          "data": {
            "image/png": "[encoded data removed]",
            "text/plain": [
              "<Figure size 1020.99x264.88 with 1 Axes>"
            ]
          },
          "metadata": {
            "tags": []
          },
          "execution_count": 13
        }
      ]
    },
    {
      "cell_type": "code",
      "metadata": {
        "id": "Vw-amgVIMBwc",
        "colab_type": "code",
        "colab": {}
      },
      "source": [
        "simulator = Aer.get_backend('qasm_simulator')\n",
        "job = execute(circuit, simulator, shots=4096)\n",
        "result = job.result()\n",
        "counts = result.get_counts()"
      ],
      "execution_count": 0,
      "outputs": []
    },
    {
      "cell_type": "markdown",
      "metadata": {
        "id": "iUkzDEcsRpCc",
        "colab_type": "text"
      },
      "source": [
        "### HISTOGRAM VISUALIZATION"
      ]
    },
    {
      "cell_type": "markdown",
      "metadata": {
        "id": "XyfhXTQkSDtR",
        "colab_type": "text"
      },
      "source": [
        "Also we must realise that the output is read from Right Hand Side. i.e. the output 110 is Q(2) = 1, Q(1) = 1 and Q(0) = 0"
      ]
    },
    {
      "cell_type": "code",
      "metadata": {
        "id": "dkyLXBsHMNHA",
        "colab_type": "code",
        "colab": {
          "base_uri": "https://localhost:8080/",
          "height": 340
        },
        "outputId": "2f071cd9-fb1a-443f-d4fe-fa942dea7c2b"
      },
      "source": [
        "from qiskit.tools.visualization import plot_histogram\n",
        "plot_histogram(result.get_counts(circuit))"
      ],
      "execution_count": 15,
      "outputs": [
        {
          "output_type": "execute_result",
          "data": {
            "image/png": "[encoded data removed]",
            "text/plain": [
              "<Figure size 504x360 with 1 Axes>"
            ]
          },
          "metadata": {
            "tags": []
          },
          "execution_count": 15
        }
      ]
    },
    {
      "cell_type": "markdown",
      "metadata": {
        "id": "gm7PIBE_MrV2",
        "colab_type": "text"
      },
      "source": [
        "We can see that we have got only results where Q(2) = 1. Thereby, allowing us to realise that Quantum state has been effectively copied or teleported from Q(0) to Q(2)."
      ]
    },
    {
      "cell_type": "markdown",
      "metadata": {
        "id": "Z9czOlD_UC_S",
        "colab_type": "text"
      },
      "source": [
        "Why does this happen?\n",
        "\n",
        "Well we first have to define each of the Quantum States before building our teleportation circuit:\n",
        "\n",
        "Q(0) := |1>     `Random may or may not be |1>`<br /> \n",
        "Q(1) := |0>     `won't matter because of single use of H-Gate`<br /> \n",
        "Q(2) := |0>     `I think this is very important. However, I am learning so... please correct me if I am worng`\n",
        "\n",
        "So, let us begin by defining what is happening in between the first and second barrier. We create H-gate basically followed by CX-Gate transferring the Quantum state of Q(1) to Q(2). How? Basically if Q(1) measures |0> then Q(2) remains |0> on the other hand if Q(1) measures |1> then Q(2) flips to |1>\n",
        "\n",
        "Now, that we have matched Q(2) with Q(1). We will begin by analysing segment between the second and third barrier. We will flip Q(1) depending on the value of Q(0). Let us take the example that Q(0) := |1>. Here, Q(1) get's flipped. Therefore, Q(1)'s state is inverse of Q(2)'s. \n",
        "In the segment between third and fourth barrier, implementing CX-Gate, will lead to Q(2) always being in the Quantum state |1>. Cause CX-Gate is very similar to Ex-Or and dissimilar inputs in Ex-Or lead to an always True\n",
        "\n",
        "On the other hand if Q(0) := |0>. Here, Q(1) remains the same. Now, Q(1)'s state and Q(2)'s state remains the same. Following it up between the third and fourth barrier, implementing CX-Gate, will lead to Q(2) always being |0>. Cause CX-Gate is very similar to Ex-Or and similar inputs in Ex-Or lead to an always False.\n",
        "\n",
        "As we can see in both cases the Quantum State is copied very easily onto a third state.\n",
        "\n",
        "(I genuinely wanna know why we haven't just copied the state using a simple CX-Gate since this algorithm won't work if Q(2) := 0. I would love an explaination, maybe by a pull request or idk how to interact using GitHub. For example we can go: circuit.cx(0,2))"
      ]
    },
    {
      "cell_type": "code",
      "metadata": {
        "id": "9ZwQSkDNMVIW",
        "colab_type": "code",
        "colab": {}
      },
      "source": [
        ""
      ],
      "execution_count": 0,
      "outputs": []
    },
    {
      "cell_type": "code",
      "metadata": {
        "id": "5HoF0cSDpUDc",
        "colab_type": "code",
        "colab": {}
      },
      "source": [
        ""
      ],
      "execution_count": 0,
      "outputs": []
    },
    {
      "cell_type": "code",
      "metadata": {
        "id": "hJcWtJ4cpUAl",
        "colab_type": "code",
        "colab": {}
      },
      "source": [
        ""
      ],
      "execution_count": 0,
      "outputs": []
    },
    {
      "cell_type": "code",
      "metadata": {
        "id": "QB5tyJC0pT9Y",
        "colab_type": "code",
        "colab": {}
      },
      "source": [
        ""
      ],
      "execution_count": 0,
      "outputs": []
    },
    {
      "cell_type": "code",
      "metadata": {
        "id": "D-Zh4JrkpTul",
        "colab_type": "code",
        "colab": {}
      },
      "source": [
        ""
      ],
      "execution_count": 0,
      "outputs": []
    },
    {
      "cell_type": "markdown",
      "metadata": {
        "id": "ATmhX7DGbmRL",
        "colab_type": "text"
      },
      "source": [
        "## CZ Gate"
      ]
    },
    {
      "cell_type": "code",
      "metadata": {
        "id": "T2MZ5WMyblky",
        "colab_type": "code",
        "colab": {
          "base_uri": "https://localhost:8080/",
          "height": 185
        },
        "outputId": "d15b94b9-ce47-41b0-f25f-277defe92b3a"
      },
      "source": [
        "circuit = QuantumCircuit(2, 2)\n",
        "#circuit.x(0)\n",
        "circuit.h(1)\n",
        "circuit.cz(0,1)\n",
        "circuit.measure([0,1], [0,1])\n",
        "circuit.draw(output='mpl')"
      ],
      "execution_count": 16,
      "outputs": [
        {
          "output_type": "execute_result",
          "data": {
            "image/png": "[encoded data removed]",
            "text/plain": [
              "<Figure size 418.992x204.68 with 1 Axes>"
            ]
          },
          "metadata": {
            "tags": []
          },
          "execution_count": 16
        }
      ]
    },
    {
      "cell_type": "code",
      "metadata": {
        "id": "W_hO_A4Mb5L4",
        "colab_type": "code",
        "colab": {
          "base_uri": "https://localhost:8080/",
          "height": 335
        },
        "outputId": "62a621b4-11a1-4d20-8813-161fc057bd44"
      },
      "source": [
        "simulator = Aer.get_backend('qasm_simulator')\n",
        "job = execute(circuit, simulator, shots=4096)\n",
        "result = job.result()\n",
        "counts = result.get_counts()\n",
        "from qiskit.tools.visualization import plot_histogram\n",
        "plot_histogram(result.get_counts(circuit))"
      ],
      "execution_count": 17,
      "outputs": [
        {
          "output_type": "execute_result",
          "data": {
            "image/png": "[encoded data removed]",
            "text/plain": [
              "<Figure size 504x360 with 1 Axes>"
            ]
          },
          "metadata": {
            "tags": []
          },
          "execution_count": 17
        }
      ]
    },
    {
      "cell_type": "markdown",
      "metadata": {
        "id": "yVO3rrZUc3FO",
        "colab_type": "text"
      },
      "source": [
        "(0, 0) ----CZ----> (0, 0)\n",
        "\n",
        "(1, 0) ----CZ----> (1, 0)\n",
        "\n",
        "(0, 1) ----CZ----> (0, 1)\n",
        "\n",
        "(1, 1) ----CZ----> (1, 1)\n"
      ]
    },
    {
      "cell_type": "markdown",
      "metadata": {
        "id": "o2rMegrCjUvf",
        "colab_type": "text"
      },
      "source": [
        "### TWO H-GATES SEQUENTIALLY\n",
        "\n",
        "Same Gates applied Sequentially lead to the input"
      ]
    },
    {
      "cell_type": "code",
      "metadata": {
        "id": "FpFNCiQocKR8",
        "colab_type": "code",
        "colab": {
          "base_uri": "https://localhost:8080/",
          "height": 140
        },
        "outputId": "c9ecb5ef-cb63-4b5a-e0b7-8c9bb5d2e9c8"
      },
      "source": [
        "circuit = QuantumCircuit(1, 1)\n",
        "circuit.h(0)\n",
        "circuit.h(0)\n",
        "circuit.measure(0, 0)\n",
        "circuit.draw(output='mpl')"
      ],
      "execution_count": 18,
      "outputs": [
        {
          "output_type": "execute_result",
          "data": {
            "image/png": "[encoded data removed]",
            "text/plain": [
              "<Figure size 293.776x144.48 with 1 Axes>"
            ]
          },
          "metadata": {
            "tags": []
          },
          "execution_count": 18
        }
      ]
    },
    {
      "cell_type": "code",
      "metadata": {
        "id": "Bd_iR6q0jju8",
        "colab_type": "code",
        "colab": {
          "base_uri": "https://localhost:8080/",
          "height": 323
        },
        "outputId": "5c1c3ac8-03c2-4872-889b-6a18cf049f23"
      },
      "source": [
        "simulator = Aer.get_backend('qasm_simulator')\n",
        "job = execute(circuit, simulator, shots=4096)\n",
        "result = job.result()\n",
        "counts = result.get_counts()\n",
        "from qiskit.tools.visualization import plot_histogram\n",
        "plot_histogram(result.get_counts(circuit))"
      ],
      "execution_count": 19,
      "outputs": [
        {
          "output_type": "execute_result",
          "data": {
            "image/png": "[encoded data removed]",
            "text/plain": [
              "<Figure size 504x360 with 1 Axes>"
            ]
          },
          "metadata": {
            "tags": []
          },
          "execution_count": 19
        }
      ]
    },
    {
      "cell_type": "markdown",
      "metadata": {
        "id": "elaGWC-IlztT",
        "colab_type": "text"
      },
      "source": [
        "### H-Gate followed by CX-Gate\n",
        "\n",
        "If the target is 0 then the state of control is just copied onto the target bt"
      ]
    },
    {
      "cell_type": "code",
      "metadata": {
        "id": "UTQTmjS_jmf8",
        "colab_type": "code",
        "colab": {
          "base_uri": "https://localhost:8080/",
          "height": 185
        },
        "outputId": "eb6d6f09-64c7-42ff-c124-2b8866ce9536"
      },
      "source": [
        "circuit = QuantumCircuit(2, 2)\n",
        "circuit.h(0)\n",
        "circuit.cx(0, 1)\n",
        "circuit.measure([0,1], [0,1])\n",
        "circuit.draw(output='mpl')"
      ],
      "execution_count": 20,
      "outputs": [
        {
          "output_type": "execute_result",
          "data": {
            "image/png": "[encoded data removed]",
            "text/plain": [
              "<Figure size 418.992x204.68 with 1 Axes>"
            ]
          },
          "metadata": {
            "tags": []
          },
          "execution_count": 20
        }
      ]
    },
    {
      "cell_type": "code",
      "metadata": {
        "id": "Mky-czhnl-3O",
        "colab_type": "code",
        "colab": {
          "base_uri": "https://localhost:8080/",
          "height": 332
        },
        "outputId": "8a418f74-ddb2-445c-d023-daf90b595009"
      },
      "source": [
        "simulator = Aer.get_backend('qasm_simulator')\n",
        "job = execute(circuit, simulator, shots=4096)\n",
        "result = job.result()\n",
        "counts = result.get_counts()\n",
        "from qiskit.tools.visualization import plot_histogram\n",
        "plot_histogram(result.get_counts(circuit))"
      ],
      "execution_count": 21,
      "outputs": [
        {
          "output_type": "execute_result",
          "data": {
            "image/png": "[encoded data removed]",
            "text/plain": [
              "<Figure size 504x360 with 1 Axes>"
            ]
          },
          "metadata": {
            "tags": []
          },
          "execution_count": 21
        }
      ]
    },
    {
      "cell_type": "markdown",
      "metadata": {
        "id": "LelIbrmBmz6P",
        "colab_type": "text"
      },
      "source": [
        "### Copied State then inverse is CX'ed\n",
        "\n",
        "Discovering it's an XOR-Gate was a real moment. Proof:\n",
        "Well below inversing results in only a flipped state  as output whereas Sequential Quantum Gates would lead to the Original Input stae. Starting with target as |0>, we get |1> if control is |1> and |0> if control is |0>, similarly, target as |1>, we get |0> if control is |1> and |1> if control is |0>. So a simple Ex-Or gate. One of the few logical gates which are naturally reversible. Like X-Gate which is a NOT-Gate"
      ]
    },
    {
      "cell_type": "code",
      "metadata": {
        "id": "x85XfpT7mCVF",
        "colab_type": "code",
        "colab": {
          "base_uri": "https://localhost:8080/",
          "height": 185
        },
        "outputId": "e21211b4-df92-424d-cd34-d1c48d96bcfe"
      },
      "source": [
        "circuit = QuantumCircuit(2, 2)\n",
        "circuit.h(0)\n",
        "circuit.cx(0, 1)\n",
        "# copied\n",
        "circuit.x(0)\n",
        "# Flipped control\n",
        "circuit.cx(0, 1)\n",
        "# CX the inverse\n",
        "circuit.measure([0,1], [0,1])\n",
        "circuit.draw(output='mpl')"
      ],
      "execution_count": 22,
      "outputs": [
        {
          "output_type": "execute_result",
          "data": {
            "image/png": "[encoded data removed]",
            "text/plain": [
              "<Figure size 539.392x204.68 with 1 Axes>"
            ]
          },
          "metadata": {
            "tags": []
          },
          "execution_count": 22
        }
      ]
    },
    {
      "cell_type": "code",
      "metadata": {
        "id": "RQcbeKn0nKs_",
        "colab_type": "code",
        "colab": {
          "base_uri": "https://localhost:8080/",
          "height": 336
        },
        "outputId": "04f35ff3-473f-4697-e273-bd9c7b323b4c"
      },
      "source": [
        "simulator = Aer.get_backend('qasm_simulator')\n",
        "job = execute(circuit, simulator, shots=4096)\n",
        "result = job.result()\n",
        "counts = result.get_counts()\n",
        "from qiskit.tools.visualization import plot_histogram\n",
        "plot_histogram(result.get_counts(circuit))"
      ],
      "execution_count": 23,
      "outputs": [
        {
          "output_type": "execute_result",
          "data": {
            "image/png": "[encoded data removed]",
            "text/plain": [
              "<Figure size 504x360 with 1 Axes>"
            ]
          },
          "metadata": {
            "tags": []
          },
          "execution_count": 23
        }
      ]
    },
    {
      "cell_type": "code",
      "metadata": {
        "id": "BkgcqmUmnQvp",
        "colab_type": "code",
        "colab": {}
      },
      "source": [
        ""
      ],
      "execution_count": 0,
      "outputs": []
    },
    {
      "cell_type": "code",
      "metadata": {
        "id": "uKRspclFsI96",
        "colab_type": "code",
        "colab": {}
      },
      "source": [
        ""
      ],
      "execution_count": 0,
      "outputs": []
    },
    {
      "cell_type": "code",
      "metadata": {
        "id": "0NHCQhIIsI67",
        "colab_type": "code",
        "colab": {}
      },
      "source": [
        ""
      ],
      "execution_count": 0,
      "outputs": []
    },
    {
      "cell_type": "code",
      "metadata": {
        "id": "IzQ1uNXUsI2B",
        "colab_type": "code",
        "colab": {}
      },
      "source": [
        ""
      ],
      "execution_count": 0,
      "outputs": []
    },
    {
      "cell_type": "code",
      "metadata": {
        "id": "YzIhsn6LsIzL",
        "colab_type": "code",
        "colab": {}
      },
      "source": [
        ""
      ],
      "execution_count": 0,
      "outputs": []
    },
    {
      "cell_type": "markdown",
      "metadata": {
        "id": "l28zRB4bsJ8h",
        "colab_type": "text"
      },
      "source": [
        "### DOUBT\n",
        "Why don't we just circuit.cx(0,2). I mean it is understandable how the above code works and their is probably some important implementation step I am missing. However, I would love to understand and document that, since I was not able to get an appropriate answer on the YouTube video: https://www.youtube.com/watch?v=mMwovHK2NrE&list=PLOFEBzvs-Vvp2xg9-POLJhQwtVktlYGbY&index=5\n",
        "\n",
        "here is the implementation of my doubt."
      ]
    },
    {
      "cell_type": "code",
      "metadata": {
        "id": "CfCW3S4nsmyv",
        "colab_type": "code",
        "colab": {
          "base_uri": "https://localhost:8080/",
          "height": 231
        },
        "outputId": "4ac3980f-dfd1-4042-fa35-3736c595bf46"
      },
      "source": [
        "circuit = QuantumCircuit(3, 3)\n",
        "circuit.h(0)\n",
        "circuit.cx(0, 2)\n",
        "# state is copied since initial state of Q(2) is |0>\n",
        "circuit.measure([0,2], [0,2])\n",
        "circuit.draw(output='mpl')"
      ],
      "execution_count": 24,
      "outputs": [
        {
          "output_type": "execute_result",
          "data": {
            "image/png": "[encoded data removed]",
            "text/plain": [
              "<Figure size 418.992x264.88 with 1 Axes>"
            ]
          },
          "metadata": {
            "tags": []
          },
          "execution_count": 24
        }
      ]
    },
    {
      "cell_type": "code",
      "metadata": {
        "id": "uLwrdmCIs91U",
        "colab_type": "code",
        "colab": {
          "base_uri": "https://localhost:8080/",
          "height": 344
        },
        "outputId": "55b340c6-91fc-418e-8768-821b4d4526eb"
      },
      "source": [
        "simulator = Aer.get_backend('qasm_simulator')\n",
        "job = execute(circuit, simulator, shots=4096)\n",
        "result = job.result()\n",
        "counts = result.get_counts()\n",
        "from qiskit.tools.visualization import plot_histogram\n",
        "plot_histogram(result.get_counts(circuit))"
      ],
      "execution_count": 25,
      "outputs": [
        {
          "output_type": "execute_result",
          "data": {
            "image/png": "[encoded data removed]",
            "text/plain": [
              "<Figure size 504x360 with 1 Axes>"
            ]
          },
          "metadata": {
            "tags": []
          },
          "execution_count": 25
        }
      ]
    },
    {
      "cell_type": "markdown",
      "metadata": {
        "id": "yaIK12jBtPoB",
        "colab_type": "text"
      },
      "source": [
        "Here, we can clearly see that both the states are preserving their values. Whereas above Q(0) loses its state. It dosen't make sense for that to happen if we want to measure a Qubit in the middle of a certain process. Since we continue to need it later on. However, if there exists a way which allows Q(2) to have an initial state defined by an H-Gate. Then we can re-use one Qubit throughout the process for just Measurement.\n",
        "\n",
        "Now the only idea for this is maybe after every implementation we are able to return the Quantum state of Q(2) to |0>. Which is not a reversible method. So, more than two Qubit have to be involved and we have to make sure that all of them are initiated by an H-Gate. This is a Doubt though so don't."
      ]
    },
    {
      "cell_type": "code",
      "metadata": {
        "id": "vwC2fRietD46",
        "colab_type": "code",
        "colab": {}
      },
      "source": [
        ""
      ],
      "execution_count": 0,
      "outputs": []
    }
  ]
}
