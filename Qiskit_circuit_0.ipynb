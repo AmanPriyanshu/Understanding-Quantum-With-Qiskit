{
  "nbformat": 4,
  "nbformat_minor": 0,
  "metadata": {
    "colab": {
      "name": "Qiskit_circuit_0.ipynb",
      "provenance": [],
      "collapsed_sections": [],
      "authorship_tag": "ABX9TyPu6+wSYKX7k/BH0SLti12y",
      "include_colab_link": true
    },
    "kernelspec": {
      "name": "python3",
      "display_name": "Python 3"
    }
  },
  "cells": [
    {
      "cell_type": "markdown",
      "metadata": {
        "id": "view-in-github",
        "colab_type": "text"
      },
      "source": [
        "<a href=\"https://colab.research.google.com/github/AmanPriyanshu/Understanding-Quantum-With-Qiskit/blob/master/Qiskit_circuit_0.ipynb\" target=\"_parent\"><img src=\"https://colab.research.google.com/assets/colab-badge.svg\" alt=\"Open In Colab\"/></a>"
      ]
    },
    {
      "cell_type": "markdown",
      "metadata": {
        "id": "661thDdMr6Am",
        "colab_type": "text"
      },
      "source": [
        "# Citrcuit 0:"
      ]
    },
    {
      "cell_type": "markdown",
      "metadata": {
        "id": "1rN0zSuXryxW",
        "colab_type": "text"
      },
      "source": [
        "Installing Qiskit "
      ]
    },
    {
      "cell_type": "code",
      "metadata": {
        "id": "3U8x4aRXb2Ip",
        "colab_type": "code",
        "colab": {}
      },
      "source": [
        "pip install qiskit -q"
      ],
      "execution_count": 0,
      "outputs": []
    },
    {
      "cell_type": "code",
      "metadata": {
        "id": "LjHU3Ih-uBlb",
        "colab_type": "code",
        "colab": {}
      },
      "source": [
        "pip install qiskit-terra[visualization] -q"
      ],
      "execution_count": 0,
      "outputs": []
    },
    {
      "cell_type": "markdown",
      "metadata": {
        "id": "yPtkZRK51j1z",
        "colab_type": "text"
      },
      "source": [
        "### Restart the Notebook if on Google Colab\n",
        "After execution of:\n",
        "\n",
        "\n",
        "```\n",
        "# pip install qiskit-terra[visualization] -q\n",
        "```\n",
        "\n"
      ]
    },
    {
      "cell_type": "markdown",
      "metadata": {
        "id": "UlpwAs51r-83",
        "colab_type": "text"
      },
      "source": [
        "Importing Everything From Qiskit"
      ]
    },
    {
      "cell_type": "code",
      "metadata": {
        "id": "Y_J0YcbzcC1o",
        "colab_type": "code",
        "colab": {}
      },
      "source": [
        "from qiskit import *"
      ],
      "execution_count": 0,
      "outputs": []
    },
    {
      "cell_type": "markdown",
      "metadata": {
        "id": "wXBZBvh0sH37",
        "colab_type": "text"
      },
      "source": [
        "Creating two 1-bit Quantum and Classical Registers"
      ]
    },
    {
      "cell_type": "code",
      "metadata": {
        "id": "B6UN9JBIiegP",
        "colab_type": "code",
        "colab": {}
      },
      "source": [
        "qr = QuantumRegister(2)\n",
        "cr = ClassicalRegister(2)"
      ],
      "execution_count": 0,
      "outputs": []
    },
    {
      "cell_type": "markdown",
      "metadata": {
        "id": "wVfljkCGsRFS",
        "colab_type": "text"
      },
      "source": [
        "Generating a Circuit using the two"
      ]
    },
    {
      "cell_type": "code",
      "metadata": {
        "id": "jZ9hVlwRrrGK",
        "colab_type": "code",
        "colab": {}
      },
      "source": [
        "circuit = QuantumCircuit(qr, cr)"
      ],
      "execution_count": 0,
      "outputs": []
    },
    {
      "cell_type": "markdown",
      "metadata": {
        "id": "mnNMqZNAsVBo",
        "colab_type": "text"
      },
      "source": [
        "Just for Visual Aid"
      ]
    },
    {
      "cell_type": "code",
      "metadata": {
        "id": "AYcXS_wfqBG3",
        "colab_type": "code",
        "colab": {}
      },
      "source": [
        "%matplotlib inline"
      ],
      "execution_count": 0,
      "outputs": []
    },
    {
      "cell_type": "markdown",
      "metadata": {
        "id": "AafRDA9LsZwy",
        "colab_type": "text"
      },
      "source": [
        "Drawing the Circuit"
      ]
    },
    {
      "cell_type": "code",
      "metadata": {
        "id": "9zpEYjR8qHd9",
        "colab_type": "code",
        "colab": {
          "base_uri": "https://localhost:8080/",
          "height": 154
        },
        "outputId": "8f5f4900-265a-40f1-cf2a-e5ae4bd7f0f4"
      },
      "source": [
        "circuit.draw()"
      ],
      "execution_count": 7,
      "outputs": [
        {
          "output_type": "execute_result",
          "data": {
            "text/html": [
              "<pre style=\"word-wrap: normal;white-space: pre;background: #fff0;line-height: 1.1;font-family: &quot;Courier New&quot;,Courier,monospace\">      \n",
              "q0_0: \n",
              "      \n",
              "q0_1: \n",
              "      \n",
              "c0_0: \n",
              "      \n",
              "c0_1: \n",
              "      </pre>"
            ],
            "text/plain": [
              "      \n",
              "q0_0: \n",
              "      \n",
              "q0_1: \n",
              "      \n",
              "c0_0: \n",
              "      \n",
              "c0_1: \n",
              "      "
            ]
          },
          "metadata": {
            "tags": []
          },
          "execution_count": 7
        }
      ]
    },
    {
      "cell_type": "markdown",
      "metadata": {
        "id": "w1xMG-WdscLH",
        "colab_type": "text"
      },
      "source": [
        "### Hadamard Gate:"
      ]
    },
    {
      "cell_type": "code",
      "metadata": {
        "id": "R7froWxKrldU",
        "colab_type": "code",
        "colab": {
          "base_uri": "https://localhost:8080/",
          "height": 185
        },
        "outputId": "805fc34f-92d7-4cb2-bcb6-c82f06b0bdc5"
      },
      "source": [
        "circuit.h(qr[0])\n",
        "circuit.draw(output='mpl')"
      ],
      "execution_count": 8,
      "outputs": [
        {
          "output_type": "execute_result",
          "data": {
            "image/png": "[encoded data removed]",
            "text/plain": [
              "<Figure size 249.228x204.68 with 1 Axes>"
            ]
          },
          "metadata": {
            "tags": []
          },
          "execution_count": 8
        }
      ]
    },
    {
      "cell_type": "markdown",
      "metadata": {
        "id": "WASlMwnKs_8B",
        "colab_type": "text"
      },
      "source": [
        "### Controlled X"
      ]
    },
    {
      "cell_type": "code",
      "metadata": {
        "id": "lrExYcg5s1gt",
        "colab_type": "code",
        "colab": {
          "base_uri": "https://localhost:8080/",
          "height": 185
        },
        "outputId": "aec356a0-891b-4f4e-8914-a13a5cb9baa7"
      },
      "source": [
        "circuit.cx(qr[0], qr[1])\n",
        "circuit.draw(output='mpl')"
      ],
      "execution_count": 9,
      "outputs": [
        {
          "output_type": "execute_result",
          "data": {
            "image/png": "[encoded data removed]",
            "text/plain": [
              "<Figure size 309.428x204.68 with 1 Axes>"
            ]
          },
          "metadata": {
            "tags": []
          },
          "execution_count": 9
        }
      ]
    },
    {
      "cell_type": "markdown",
      "metadata": {
        "id": "2AWemuiEtfA5",
        "colab_type": "text"
      },
      "source": [
        "## MEASURING OUTPUT"
      ]
    },
    {
      "cell_type": "code",
      "metadata": {
        "id": "ZrDzHJZVtPiN",
        "colab_type": "code",
        "colab": {
          "base_uri": "https://localhost:8080/",
          "height": 185
        },
        "outputId": "c4a80949-0d25-4ac7-f7d8-6652ecbac438"
      },
      "source": [
        "circuit.measure(qr, cr)\n",
        "circuit.draw(output='mpl')"
      ],
      "execution_count": 10,
      "outputs": [
        {
          "output_type": "execute_result",
          "data": {
            "image/png": "[encoded data removed]",
            "text/plain": [
              "<Figure size 429.828x204.68 with 1 Axes>"
            ]
          },
          "metadata": {
            "tags": []
          },
          "execution_count": 10
        }
      ]
    },
    {
      "cell_type": "markdown",
      "metadata": {
        "id": "2Xvrwfwzxji6",
        "colab_type": "text"
      },
      "source": [
        "## GETTING RESULTS FROM SIMULATION OF CIRCUIT"
      ]
    },
    {
      "cell_type": "code",
      "metadata": {
        "id": "77SHOKf9tZmv",
        "colab_type": "code",
        "colab": {}
      },
      "source": [
        "simulator = Aer.get_backend('qasm_simulator')\n",
        "job = execute(circuit, simulator, shots=4096)\n",
        "result = job.result()"
      ],
      "execution_count": 0,
      "outputs": []
    },
    {
      "cell_type": "markdown",
      "metadata": {
        "id": "YZoUvOHHyQbp",
        "colab_type": "text"
      },
      "source": [
        "### Plotting Results In A HISTOGRAM"
      ]
    },
    {
      "cell_type": "code",
      "metadata": {
        "id": "Fhj1YxcBxpgb",
        "colab_type": "code",
        "colab": {
          "base_uri": "https://localhost:8080/",
          "height": 332
        },
        "outputId": "4d67be0f-9e34-42da-c6e3-3a1e352840da"
      },
      "source": [
        "from qiskit.tools.visualization import plot_histogram\n",
        "plot_histogram(result.get_counts(circuit))"
      ],
      "execution_count": 21,
      "outputs": [
        {
          "output_type": "execute_result",
          "data": {
            "image/png": "[encoded data removed]",
            "text/plain": [
              "<Figure size 504x360 with 1 Axes>"
            ]
          },
          "metadata": {
            "tags": []
          },
          "execution_count": 21
        }
      ]
    },
    {
      "cell_type": "markdown",
      "metadata": {
        "id": "JhviNFW1yv_k",
        "colab_type": "text"
      },
      "source": [
        "Now here we must take note that in a Real Quantum Device this is not what we would get as results. Rather there will exist some ERRORS which we refer to as NOISE. This occurs due to the Devices themselves and are considered parts of QC. As the devices considerably improve errors due to noise will decrease until we can see output similar to above. A perfect QC will give similar output as seen above"
      ]
    },
    {
      "cell_type": "code",
      "metadata": {
        "id": "h1DHA8DQx0re",
        "colab_type": "code",
        "colab": {}
      },
      "source": [
        ""
      ],
      "execution_count": 0,
      "outputs": []
    }
  ]
}