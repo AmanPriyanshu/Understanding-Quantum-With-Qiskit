{
  "nbformat": 4,
  "nbformat_minor": 0,
  "metadata": {
    "colab": {
      "name": "Qiskit_circuit_3.ipynb",
      "provenance": [],
      "authorship_tag": "ABX9TyN4Z6qiacWAlijnG+kvXTxI",
      "include_colab_link": true
    },
    "kernelspec": {
      "name": "python3",
      "display_name": "Python 3"
    }
  },
  "cells": [
    {
      "cell_type": "markdown",
      "metadata": {
        "id": "view-in-github",
        "colab_type": "text"
      },
      "source": [
        "<a href=\"https://colab.research.google.com/github/AmanPriyanshu/Understanding-Quantum-With-Qiskit/blob/master/Qiskit_circuit_3.ipynb\" target=\"_parent\"><img src=\"https://colab.research.google.com/assets/colab-badge.svg\" alt=\"Open In Colab\"/></a>"
      ]
    },
    {
      "cell_type": "markdown",
      "metadata": {
        "id": "MsA2GiITSMc_",
        "colab_type": "text"
      },
      "source": [
        "# Circuit 2:"
      ]
    },
    {
      "cell_type": "markdown",
      "metadata": {
        "id": "0j_LbAtMSN_0",
        "colab_type": "text"
      },
      "source": [
        "Installing Qiskit"
      ]
    },
    {
      "cell_type": "code",
      "metadata": {
        "id": "zvY0q0njSC2i",
        "colab_type": "code",
        "colab": {}
      },
      "source": [
        "pip install qiskit -q"
      ],
      "execution_count": 0,
      "outputs": []
    },
    {
      "cell_type": "code",
      "metadata": {
        "id": "Ayj1IHwgSTIl",
        "colab_type": "code",
        "colab": {}
      },
      "source": [
        "pip install qiskit-terra[visualization] -q"
      ],
      "execution_count": 0,
      "outputs": []
    },
    {
      "cell_type": "markdown",
      "metadata": {
        "id": "wL_x-sd3SaYo",
        "colab_type": "text"
      },
      "source": [
        "### Restart the Notebook if on Google Colab\n",
        "After execution of:\n",
        "\n",
        "\n",
        "```\n",
        "# pip install qiskit-terra[visualization] -q\n",
        "```\n"
      ]
    },
    {
      "cell_type": "markdown",
      "metadata": {
        "id": "Ye4uY7YbS0Oi",
        "colab_type": "text"
      },
      "source": [
        "Importing Everything From Qiskit"
      ]
    },
    {
      "cell_type": "code",
      "metadata": {
        "id": "Hzxt159USVru",
        "colab_type": "code",
        "colab": {}
      },
      "source": [
        "from qiskit import *"
      ],
      "execution_count": 0,
      "outputs": []
    },
    {
      "cell_type": "code",
      "metadata": {
        "id": "4gd_mifwS4eK",
        "colab_type": "code",
        "colab": {}
      },
      "source": [
        "%matplotlib inline\n",
        "from qiskit.tools.visualization import plot_histogram"
      ],
      "execution_count": 0,
      "outputs": []
    },
    {
      "cell_type": "markdown",
      "metadata": {
        "id": "-7tAzfmIVVhd",
        "colab_type": "text"
      },
      "source": [
        "# Bernstein-Vazirani Algorithm"
      ]
    },
    {
      "cell_type": "code",
      "metadata": {
        "id": "IBC2xR0NTBL2",
        "colab_type": "code",
        "colab": {}
      },
      "source": [
        "secret_number = '101001'"
      ],
      "execution_count": 0,
      "outputs": []
    },
    {
      "cell_type": "markdown",
      "metadata": {
        "id": "mMG13s7RB-Di",
        "colab_type": "text"
      },
      "source": [
        "Defining the Circuit"
      ]
    },
    {
      "cell_type": "code",
      "metadata": {
        "id": "U4xIUtanTKSH",
        "colab_type": "code",
        "colab": {
          "base_uri": "https://localhost:8080/",
          "height": 33
        },
        "outputId": "81e62c6f-82ec-4dce-8a6f-331c70e31c41"
      },
      "source": [
        "circuit = QuantumCircuit(6+1, 6)\n",
        "circuit.h([0,1,2,3,4,5])\n",
        "circuit.x(6)\n",
        "circuit.h(6)\n",
        "circuit.barrier()"
      ],
      "execution_count": 94,
      "outputs": [
        {
          "output_type": "execute_result",
          "data": {
            "text/plain": [
              "<qiskit.circuit.instructionset.InstructionSet at 0x7fbc69c4ea58>"
            ]
          },
          "metadata": {
            "tags": []
          },
          "execution_count": 94
        }
      ]
    },
    {
      "cell_type": "code",
      "metadata": {
        "id": "Eu1f_rp-TTfO",
        "colab_type": "code",
        "colab": {
          "base_uri": "https://localhost:8080/",
          "height": 413
        },
        "outputId": "4cad6735-7564-4169-8b05-1643870b58ad"
      },
      "source": [
        "circuit.draw(output='mpl')"
      ],
      "execution_count": 95,
      "outputs": [
        {
          "output_type": "execute_result",
          "data": {
            "image/png": "[encoded data removed]",
            "text/plain": [
              "<Figure size 358.792x505.68 with 1 Axes>"
            ]
          },
          "metadata": {
            "tags": []
          },
          "execution_count": 95
        }
      ]
    },
    {
      "cell_type": "code",
      "metadata": {
        "id": "wyvWRxCfTXB5",
        "colab_type": "code",
        "colab": {
          "base_uri": "https://localhost:8080/",
          "height": 33
        },
        "outputId": "1c3d45cf-027c-4d99-b24a-188acdfa65d2"
      },
      "source": [
        "circuit.cx(5, 6)\n",
        "circuit.cx(3, 6)\n",
        "circuit.cx(0, 6)\n",
        "\n",
        "circuit.barrier()"
      ],
      "execution_count": 96,
      "outputs": [
        {
          "output_type": "execute_result",
          "data": {
            "text/plain": [
              "<qiskit.circuit.instructionset.InstructionSet at 0x7fbc69af5dd8>"
            ]
          },
          "metadata": {
            "tags": []
          },
          "execution_count": 96
        }
      ]
    },
    {
      "cell_type": "code",
      "metadata": {
        "id": "YZTWd44PVHRI",
        "colab_type": "code",
        "colab": {
          "base_uri": "https://localhost:8080/",
          "height": 413
        },
        "outputId": "fd6f6a39-53c7-4791-a2a7-9a345a60c2c7"
      },
      "source": [
        "circuit.draw(output='mpl')"
      ],
      "execution_count": 97,
      "outputs": [
        {
          "output_type": "execute_result",
          "data": {
            "image/png": "[encoded data removed]",
            "text/plain": [
              "<Figure size 599.592x505.68 with 1 Axes>"
            ]
          },
          "metadata": {
            "tags": []
          },
          "execution_count": 97
        }
      ]
    },
    {
      "cell_type": "code",
      "metadata": {
        "id": "XxUW9kbkVLor",
        "colab_type": "code",
        "colab": {
          "base_uri": "https://localhost:8080/",
          "height": 33
        },
        "outputId": "925418ea-ff90-45cc-8a55-83fa2d66afe6"
      },
      "source": [
        "circuit.h([0,1,2,3,4,5])\n",
        "\n",
        "circuit.barrier()"
      ],
      "execution_count": 98,
      "outputs": [
        {
          "output_type": "execute_result",
          "data": {
            "text/plain": [
              "<qiskit.circuit.instructionset.InstructionSet at 0x7fbc699e83c8>"
            ]
          },
          "metadata": {
            "tags": []
          },
          "execution_count": 98
        }
      ]
    },
    {
      "cell_type": "markdown",
      "metadata": {
        "id": "rfzJrVjNWKKY",
        "colab_type": "text"
      },
      "source": [
        "### MEASURING CIRCUIT"
      ]
    },
    {
      "cell_type": "code",
      "metadata": {
        "id": "cQ_fV4VjVPRP",
        "colab_type": "code",
        "colab": {
          "base_uri": "https://localhost:8080/",
          "height": 33
        },
        "outputId": "5a8cc041-082d-4ce4-f310-7764219d6953"
      },
      "source": [
        "circuit.measure([0,1,2,3,4,5], [0,1,2,3,4,5])"
      ],
      "execution_count": 99,
      "outputs": [
        {
          "output_type": "execute_result",
          "data": {
            "text/plain": [
              "<qiskit.circuit.instructionset.InstructionSet at 0x7fbc699e8198>"
            ]
          },
          "metadata": {
            "tags": []
          },
          "execution_count": 99
        }
      ]
    },
    {
      "cell_type": "code",
      "metadata": {
        "id": "cRdu5cLdVh2Y",
        "colab_type": "code",
        "colab": {
          "base_uri": "https://localhost:8080/",
          "height": 413
        },
        "outputId": "92b339d1-42d5-4e4f-ccd9-6b0b99bddcf6"
      },
      "source": [
        "circuit.draw(output='mpl')"
      ],
      "execution_count": 100,
      "outputs": [
        {
          "output_type": "execute_result",
          "data": {
            "image/png": "[encoded data removed]",
            "text/plain": [
              "<Figure size 1081.19x505.68 with 1 Axes>"
            ]
          },
          "metadata": {
            "tags": []
          },
          "execution_count": 100
        }
      ]
    },
    {
      "cell_type": "markdown",
      "metadata": {
        "id": "54IJDBSxWIek",
        "colab_type": "text"
      },
      "source": [
        "### SIMULATING THE CIRCUIT"
      ]
    },
    {
      "cell_type": "code",
      "metadata": {
        "id": "6_ByUJhyVlHq",
        "colab_type": "code",
        "colab": {}
      },
      "source": [
        "simulator = Aer.get_backend('qasm_simulator')\n",
        "job = execute(circuit, simulator, shots=1)\n",
        "result = job.result()\n",
        "counts = result.get_counts()"
      ],
      "execution_count": 0,
      "outputs": []
    },
    {
      "cell_type": "code",
      "metadata": {
        "id": "sZHzSSHsVzrP",
        "colab_type": "code",
        "colab": {
          "base_uri": "https://localhost:8080/",
          "height": 33
        },
        "outputId": "7a3776dd-d261-4b96-ba85-140aacf6b813"
      },
      "source": [
        "print(counts)"
      ],
      "execution_count": 102,
      "outputs": [
        {
          "output_type": "stream",
          "text": [
            "{'101001': 1}\n"
          ],
          "name": "stdout"
        }
      ]
    },
    {
      "cell_type": "code",
      "metadata": {
        "id": "w4SFOY5BV520",
        "colab_type": "code",
        "colab": {}
      },
      "source": [
        ""
      ],
      "execution_count": 0,
      "outputs": []
    },
    {
      "cell_type": "markdown",
      "metadata": {
        "id": "hNPSx_gWnlLA",
        "colab_type": "text"
      },
      "source": [
        "RE-CREATING FOR A GENERAL CASE:"
      ]
    },
    {
      "cell_type": "code",
      "metadata": {
        "id": "a0x-b4OJnoZ_",
        "colab_type": "code",
        "colab": {
          "base_uri": "https://localhost:8080/",
          "height": 33
        },
        "outputId": "8c6971b3-d72d-4bea-dafc-4e878e8df2cc"
      },
      "source": [
        "secret_number = input('Secret Number:\\t')"
      ],
      "execution_count": 103,
      "outputs": [
        {
          "output_type": "stream",
          "text": [
            "Secret Number:\t11010101\n"
          ],
          "name": "stdout"
        }
      ]
    },
    {
      "cell_type": "code",
      "metadata": {
        "id": "7jwF88a_nuKu",
        "colab_type": "code",
        "colab": {
          "base_uri": "https://localhost:8080/",
          "height": 33
        },
        "outputId": "c46c2e6c-aa25-4852-fec3-ac3fff8e4648"
      },
      "source": [
        "circuit = QuantumCircuit(len(secret_number)+1, len(secret_number))\n",
        "circuit.h(range(len(secret_number)))\n",
        "circuit.x(len(secret_number))\n",
        "circuit.h(len(secret_number))\n",
        "circuit.barrier()"
      ],
      "execution_count": 104,
      "outputs": [
        {
          "output_type": "execute_result",
          "data": {
            "text/plain": [
              "<qiskit.circuit.instructionset.InstructionSet at 0x7fbc69af59e8>"
            ]
          },
          "metadata": {
            "tags": []
          },
          "execution_count": 104
        }
      ]
    },
    {
      "cell_type": "code",
      "metadata": {
        "id": "IuLFFK9KoB_N",
        "colab_type": "code",
        "colab": {
          "base_uri": "https://localhost:8080/",
          "height": 504
        },
        "outputId": "f61da278-e1bb-4f60-9218-04a1a19611f1"
      },
      "source": [
        "circuit.draw(output='mpl')"
      ],
      "execution_count": 105,
      "outputs": [
        {
          "output_type": "execute_result",
          "data": {
            "image/png": "[encoded data removed]",
            "text/plain": [
              "<Figure size 358.792x626.08 with 1 Axes>"
            ]
          },
          "metadata": {
            "tags": []
          },
          "execution_count": 105
        }
      ]
    },
    {
      "cell_type": "code",
      "metadata": {
        "id": "K6MEkKa5oNg4",
        "colab_type": "code",
        "colab": {
          "base_uri": "https://localhost:8080/",
          "height": 33
        },
        "outputId": "f1da9315-849b-4ea1-80ca-e5880a664b12"
      },
      "source": [
        "for i, if_one in enumerate(reversed(secret_number)):\n",
        "  if if_one == '1':\n",
        "    circuit.cx(i, len(secret_number))\n",
        "\n",
        "circuit.barrier()"
      ],
      "execution_count": 106,
      "outputs": [
        {
          "output_type": "execute_result",
          "data": {
            "text/plain": [
              "<qiskit.circuit.instructionset.InstructionSet at 0x7fbc6964f080>"
            ]
          },
          "metadata": {
            "tags": []
          },
          "execution_count": 106
        }
      ]
    },
    {
      "cell_type": "code",
      "metadata": {
        "id": "55FFWFKmvC2x",
        "colab_type": "code",
        "colab": {
          "base_uri": "https://localhost:8080/",
          "height": 504
        },
        "outputId": "bde4dfed-eeba-42d2-da35-ab5978c68999"
      },
      "source": [
        "circuit.draw(output='mpl')"
      ],
      "execution_count": 107,
      "outputs": [
        {
          "output_type": "execute_result",
          "data": {
            "image/png": "[encoded data removed]",
            "text/plain": [
              "<Figure size 719.992x626.08 with 1 Axes>"
            ]
          },
          "metadata": {
            "tags": []
          },
          "execution_count": 107
        }
      ]
    },
    {
      "cell_type": "code",
      "metadata": {
        "id": "WPfvPfiJvFlc",
        "colab_type": "code",
        "colab": {
          "base_uri": "https://localhost:8080/",
          "height": 33
        },
        "outputId": "bb36823e-a3a4-4b55-cbd9-66511c91b029"
      },
      "source": [
        "circuit.h(range(len(secret_number)))\n",
        "circuit.measure(range(len(secret_number)), range(len(secret_number)))"
      ],
      "execution_count": 108,
      "outputs": [
        {
          "output_type": "execute_result",
          "data": {
            "text/plain": [
              "<qiskit.circuit.instructionset.InstructionSet at 0x7fbc6966a940>"
            ]
          },
          "metadata": {
            "tags": []
          },
          "execution_count": 108
        }
      ]
    },
    {
      "cell_type": "code",
      "metadata": {
        "id": "UCHQlJhvvbu7",
        "colab_type": "code",
        "colab": {
          "base_uri": "https://localhost:8080/",
          "height": 504
        },
        "outputId": "74d03f1f-a4bc-4cba-d506-254212dbc7ec"
      },
      "source": [
        "circuit.draw(output='mpl')"
      ],
      "execution_count": 109,
      "outputs": [
        {
          "output_type": "execute_result",
          "data": {
            "image/png": "[encoded data removed]",
            "text/plain": [
              "<Figure size 1261.79x626.08 with 1 Axes>"
            ]
          },
          "metadata": {
            "tags": []
          },
          "execution_count": 109
        }
      ]
    },
    {
      "cell_type": "code",
      "metadata": {
        "id": "nIsLeV95vd2I",
        "colab_type": "code",
        "colab": {}
      },
      "source": [
        "simulator = Aer.get_backend('qasm_simulator')\n",
        "job = execute(circuit, simulator, shots=1)\n",
        "result = job.result()\n",
        "counts = result.get_counts()"
      ],
      "execution_count": 0,
      "outputs": []
    },
    {
      "cell_type": "code",
      "metadata": {
        "id": "B49KYTsSviLY",
        "colab_type": "code",
        "colab": {
          "base_uri": "https://localhost:8080/",
          "height": 33
        },
        "outputId": "01d78808-f1c6-441e-bbc9-66b3eae7aaf0"
      },
      "source": [
        "print(counts)"
      ],
      "execution_count": 111,
      "outputs": [
        {
          "output_type": "stream",
          "text": [
            "{'11010101': 1}\n"
          ],
          "name": "stdout"
        }
      ]
    },
    {
      "cell_type": "markdown",
      "metadata": {
        "id": "_EmUT8Z2CTNv",
        "colab_type": "text"
      },
      "source": [
        "### CONCEPT:\n",
        "\n",
        "Two sequential Hadamard Gate results in the original input. However, finding a 1 would invert it resulting in an inverted output. Let us try different variations."
      ]
    },
    {
      "cell_type": "code",
      "metadata": {
        "id": "kSZ0f3SovjDM",
        "colab_type": "code",
        "colab": {
          "base_uri": "https://localhost:8080/",
          "height": 33
        },
        "outputId": "e48667a4-906b-45ba-9669-418e51b76217"
      },
      "source": [
        "circuit = QuantumCircuit(3, 3)\n",
        "circuit.h(0)\n",
        "circuit.h(1)\n",
        "circuit.h(0)\n",
        "circuit.x(2)\n",
        "circuit.h(2)\n",
        "circuit.cx(1,2)\n",
        "circuit.h(1)\n",
        "circuit.measure([1],[1])"
      ],
      "execution_count": 118,
      "outputs": [
        {
          "output_type": "execute_result",
          "data": {
            "text/plain": [
              "<qiskit.circuit.instructionset.InstructionSet at 0x7fbc69808a58>"
            ]
          },
          "metadata": {
            "tags": []
          },
          "execution_count": 118
        }
      ]
    },
    {
      "cell_type": "code",
      "metadata": {
        "id": "o6uKaBMxeA66",
        "colab_type": "code",
        "colab": {
          "base_uri": "https://localhost:8080/",
          "height": 231
        },
        "outputId": "5f165478-50ad-48e5-870c-9eb010df6a1c"
      },
      "source": [
        "circuit.draw(output='mpl')"
      ],
      "execution_count": 119,
      "outputs": [
        {
          "output_type": "execute_result",
          "data": {
            "image/png": "[encoded data removed]",
            "text/plain": [
              "<Figure size 479.192x264.88 with 1 Axes>"
            ]
          },
          "metadata": {
            "tags": []
          },
          "execution_count": 119
        }
      ]
    },
    {
      "cell_type": "code",
      "metadata": {
        "id": "Fmk3zCrmeDmY",
        "colab_type": "code",
        "colab": {}
      },
      "source": [
        "simulator = Aer.get_backend('qasm_simulator')\n",
        "job = execute(circuit, simulator, shots=10)\n",
        "result = job.result()\n",
        "counts = result.get_counts()"
      ],
      "execution_count": 0,
      "outputs": []
    },
    {
      "cell_type": "code",
      "metadata": {
        "id": "t7TkVq_AeNyg",
        "colab_type": "code",
        "colab": {
          "base_uri": "https://localhost:8080/",
          "height": 33
        },
        "outputId": "6dfc19ea-51f2-4470-f8fc-93d383463ee6"
      },
      "source": [
        "print(counts)"
      ],
      "execution_count": 121,
      "outputs": [
        {
          "output_type": "stream",
          "text": [
            "{'010': 10}\n"
          ],
          "name": "stdout"
        }
      ]
    },
    {
      "cell_type": "markdown",
      "metadata": {
        "id": "WBselAOrepkv",
        "colab_type": "text"
      },
      "source": [
        "The only output we get is 1 here q(1). Whereas, q(0) will always be 0."
      ]
    },
    {
      "cell_type": "code",
      "metadata": {
        "id": "EergQ9YrePA0",
        "colab_type": "code",
        "colab": {}
      },
      "source": [
        ""
      ],
      "execution_count": 0,
      "outputs": []
    }
  ]
}